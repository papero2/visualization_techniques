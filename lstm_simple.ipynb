{
 "cells": [
  {
   "cell_type": "markdown",
   "metadata": {},
   "source": [
    "# <font color='blue'>A GENTLE INTRODUCTION TO LSTM</font>"
   ]
  },
  {
   "cell_type": "code",
   "execution_count": 8,
   "metadata": {},
   "outputs": [
    {
     "name": "stderr",
     "output_type": "stream",
     "text": [
      "Using TensorFlow backend.\n"
     ]
    }
   ],
   "source": [
    "import keras\n",
    "import numpy as np\n",
    "from keras import layers\n",
    "from keras import backend as K\n",
    "import pylab as plt"
   ]
  },
  {
   "cell_type": "code",
   "execution_count": 2,
   "metadata": {},
   "outputs": [
    {
     "name": "stdout",
     "output_type": "stream",
     "text": [
      "[[[   1]\n",
      "  [   3]\n",
      "  [   7]\n",
      "  [  15]\n",
      "  [  31]\n",
      "  [  63]\n",
      "  [ 127]\n",
      "  [ 255]\n",
      "  [ 511]\n",
      "  [1023]]]\n"
     ]
    }
   ],
   "source": [
    "# LSTM 1: SUM OF POWERS OF TWO (binary numbers of n '1's)\n",
    "model = keras.models.Sequential()\n",
    "\n",
    "values1=[1, 1, 1, 1]\n",
    "values2=[0, 0, 0, 0]\n",
    "activation1='linear'\n",
    "activation2='linear'\n",
    "\n",
    "def kernel_init(shape, dtype=None):\n",
    "    var=K.ones(shape)\n",
    "    K.set_value(var, matrix)\n",
    "    return var\n",
    "\n",
    "matrix=np.ones((1, 4))\n",
    "\n",
    "for i, index in enumerate([1, 0, 2, 3]):\n",
    "    matrix[0][i]=values1[index]\n",
    "            \n",
    "model.add(layers.LSTM(\n",
    "1, \n",
    "kernel_initializer=kernel_init, \n",
    "recurrent_initializer='zeros', \n",
    "return_sequences='True', \n",
    "activation='linear', \n",
    "recurrent_activation='linear', \n",
    "input_shape=(10, 1)))\n",
    "\n",
    "x_input = np.ones((1, 10, 1))\n",
    "y=model.predict(x_input).astype(int)\n",
    "print(y)\n"
   ]
  },
  {
   "cell_type": "code",
   "execution_count": 3,
   "metadata": {},
   "outputs": [
    {
     "data": {
      "image/png": "[encoded data removed]",
      "text/plain": [
       "<matplotlib.figure.Figure at 0x136fafaf898>"
      ]
     },
     "metadata": {},
     "output_type": "display_data"
    }
   ],
   "source": [
    "# LSTM 2: LOGISTIC MAP\n",
    "model = keras.models.Sequential()\n",
    "                                       \n",
    "# OPTIONS \n",
    "r=3.2  #  0<r<4, critical values: r=1, r=3, r=3.569946... \n",
    "\n",
    "values1=[r-1, 0.001, 0.001, 1]\n",
    "values2=[-r, 0, 0, 0]\n",
    "activation1='linear'\n",
    "activation2='linear'\n",
    "\n",
    "def kernel_init(shape, dtype=None):\n",
    "    var=K.ones(shape)\n",
    "    K.set_value(var, matrix)\n",
    "    return var\n",
    "def rec_init(shape, dtype=None):\n",
    "    var2=K.ones(shape)\n",
    "    K.set_value(var2, matrix2)\n",
    "    return var2\n",
    "\n",
    "matrix=np.ones((1, 4))\n",
    "matrix2=np.ones((1, 4))\n",
    "\n",
    "for i, index in enumerate([1, 0, 2, 3]):\n",
    "    matrix[0][i]=values1[index]\n",
    "    matrix2[0][i]=values2[index]\n",
    "\n",
    "model.add(layers.LSTM(\n",
    "1, \n",
    "kernel_initializer=kernel_init, \n",
    "recurrent_initializer=rec_init, \n",
    "return_sequences='True', \n",
    "activation=activation1, \n",
    "recurrent_activation=activation2, \n",
    "input_shape=(100, 1)))\n",
    "optimizer = keras.optimizers.RMSprop(lr=0.01)\n",
    "model.compile(loss='categorical_crossentropy', optimizer=optimizer)\n",
    "\n",
    "x_input = np.ones((1, 100, 1))\n",
    "y=model.predict(x_input)\n",
    "plt.plot(y[0])\n",
    "plt.show()"
   ]
  },
  {
   "cell_type": "code",
   "execution_count": 4,
   "metadata": {},
   "outputs": [
    {
     "name": "stdout",
     "output_type": "stream",
     "text": [
      "h\n",
      "e\n",
      "l\n",
      "l\n",
      "o\n",
      "\n",
      "[ 0.  1.  0.  0.]\n",
      "[ 0.  0.  1.  0.]\n",
      "[ 0.  0.  1.  0.]\n",
      "[ 0.  0. -0.  1.]\n"
     ]
    }
   ],
   "source": [
    "# LSTM 3: HELLO\n",
    "\n",
    "print('h')\n",
    "model = keras.models.Sequential()\n",
    "                                       \n",
    "# OPTIONS \n",
    "# H: 1 0 0 0\n",
    "# E: 0 1 0 0\n",
    "# L: 0 0 1 0\n",
    "# O: 0 0 0 1\n",
    "\n",
    "char_indices = {0:'h', 1:'e', 2:'l', 3:'o'}\n",
    "x_input = np.zeros((1, 4, 4))\n",
    "x_input[0,0,0]=1\n",
    "\n",
    "values=np.zeros((4, 20))\n",
    "\n",
    "# H->E\n",
    "values[1:4]=[0, 1, 0, 0, 0,\n",
    "             0, 0, 0, 0, 0,\n",
    "             0, 0, 0, 0, 0,\n",
    "             0, 0, 0, 0, 0]\n",
    "\n",
    "values2=np.zeros((4, 25))\n",
    "\n",
    "# E->L\n",
    "values2[1:4]= [0, 0, 0, 0, 0,\n",
    "               0, 0, 1, 0, 0,\n",
    "               0, 0, 0, 0, 0,\n",
    "               0, 0, 0, 0, 0,\n",
    "               0, 0, 0, 0, 0]\n",
    "\n",
    "# L->L, bit\n",
    "values2[1:4]+=[0, 0, 0, 0, 0,\n",
    "               0, 0, 0, 0, 0,\n",
    "               0, 0, 1, 0, 1,\n",
    "               0, 0, 0, 0, 0,\n",
    "               0, 0, 0, 0, 0]\n",
    "# LL->O\n",
    "values2[1:4]+=[0, 0, 0, 0, 0,\n",
    "               0, 0, 0, 0, 0,\n",
    "               0, 0, 0, 0, 0,\n",
    "               0, 0, 0, 0, 0,\n",
    "               0, 0,-1, 1, 0]\n",
    "\n",
    "values2[0]=-1\n",
    "\n",
    "values[[0, 1],:]=values[[1, 0],:]\n",
    "values=values.reshape((4, 4, 5)).swapaxes(0, 1).reshape((4, 20))\n",
    "values2[[0, 1],:]=values2[[1, 0],:]\n",
    "values2=values2.reshape((4, 5, 5)).swapaxes(0, 1).reshape((5, 20))\n",
    "\n",
    "activation1='linear'\n",
    "activation2='linear'\n",
    "\n",
    "def kernel_init(shape, dtype=None):\n",
    "    var=K.ones(shape)\n",
    "    K.set_value(var, matrix)\n",
    "    return var\n",
    "\n",
    "def rec_init(shape, dtype=None):\n",
    "    var=K.ones(shape)\n",
    "    K.set_value(var, matrix2)\n",
    "    return var\n",
    "matrix=np.ones((4, 20))\n",
    "matrix2=np.ones((5, 20))\n",
    "\n",
    "for i in range(20):\n",
    "    for j in range(4):\n",
    "        matrix[j][i]=values[j][i]\n",
    "    for k in range(5):\n",
    "        matrix2[k][i]=values2[k][i]\n",
    "\n",
    "model.add(layers.LSTM(\n",
    "5, \n",
    "kernel_initializer=kernel_init, \n",
    "recurrent_initializer=rec_init,\n",
    "return_sequences='True', \n",
    "activation=activation1, \n",
    "unit_forget_bias='False',\n",
    "recurrent_activation=activation2, \n",
    "input_shape=(4, 4)))\n",
    "optimizer = keras.optimizers.RMSprop(lr=0.01)\n",
    "model.compile(loss='categorical_crossentropy', optimizer=optimizer)\n",
    "\n",
    "y=model.predict(x_input)\n",
    "\n",
    "for i in range(4):\n",
    "    print (char_indices[np.argmax(y[0][i])])\n",
    "print()\n",
    "for i in range(4):\n",
    "    print(y[0][i][0:4])"
   ]
  },
  {
   "cell_type": "code",
   "execution_count": 5,
   "metadata": {
    "collapsed": true
   },
   "outputs": [],
   "source": [
    "# LSTM4: CICERO'S TUSCULANAE DISPUTATIONES"
   ]
  },
  {
   "cell_type": "code",
   "execution_count": 95,
   "metadata": {},
   "outputs": [
    {
     "name": "stdout",
     "output_type": "stream",
     "text": [
      "Corpus length: 487062\n"
     ]
    }
   ],
   "source": [
    "text = open('cicero_data.txt').read().lower().replace('\\n', '').replace('-','')\n",
    "print('Corpus length:', len(text))"
   ]
  },
  {
   "cell_type": "code",
   "execution_count": 96,
   "metadata": {
    "collapsed": true
   },
   "outputs": [],
   "source": [
    "inputs = []  \n",
    "targets = []\n",
    "timestep = 30\n",
    "\n",
    "for i in range(len(text) - timestep-1):\n",
    "    inputs.append(text[i: i + timestep])\n",
    "    targets.append(text[i + timestep])\n"
   ]
  },
  {
   "cell_type": "code",
   "execution_count": 97,
   "metadata": {},
   "outputs": [
    {
     "name": "stdout",
     "output_type": "stream",
     "text": [
      "Unique characters: [' ', '!', '\"', '%', '&', \"'\", '(', ')', '*', ',', '.', '/', '0', '1', '2', '3', '4', '5', '6', '7', '8', '9', ':', ';', '<', '>', '?', '[', '\\\\', ']', '^', 'a', 'b', 'c', 'd', 'e', 'f', 'g', 'h', 'i', 'j', 'k', 'l', 'm', 'n', 'o', 'p', 'q', 'r', 's', 't', 'u', 'v', 'w', 'x', 'y', 'z', '{', '|', '}', '£', '¦', '§', '«', '»', '—', '„', '•', '€']\n",
      "69\n"
     ]
    }
   ],
   "source": [
    "chars = sorted(list(set(text))) \n",
    "char_indices = dict((char, chars.index(char)) for char in chars) \n",
    "char2_indices = dict((chars.index(char), char) for char in chars)\n",
    "print('Unique characters:', chars)\n",
    "print(len(chars))"
   ]
  },
  {
   "cell_type": "code",
   "execution_count": 98,
   "metadata": {},
   "outputs": [
    {
     "name": "stdout",
     "output_type": "stream",
     "text": [
      "_________________________________________________________________\n",
      "Layer (type)                 Output Shape              Param #   \n",
      "=================================================================\n",
      "lstm_12 (LSTM)               (None, 128)               101376    \n",
      "_________________________________________________________________\n",
      "dense_12 (Dense)             (None, 69)                8901      \n",
      "=================================================================\n",
      "Total params: 110,277\n",
      "Trainable params: 110,277\n",
      "Non-trainable params: 0\n",
      "_________________________________________________________________\n",
      "None\n"
     ]
    }
   ],
   "source": [
    "model = keras.models.Sequential()\n",
    "model.add(layers.LSTM(\n",
    "128, \n",
    "input_shape=(timestep, len(chars)),\n",
    "# kernel_initializer='ones',\n",
    "activation = 'sigmoid',\n",
    "recurrent_activation ='tanh'\n",
    "))\n",
    "model.add(layers.Dense(len(chars), activation='softmax'))\n",
    "print(model.summary())"
   ]
  },
  {
   "cell_type": "code",
   "execution_count": 99,
   "metadata": {
    "collapsed": true
   },
   "outputs": [],
   "source": [
    "inputs = inputs[0:400]"
   ]
  },
  {
   "cell_type": "code",
   "execution_count": 100,
   "metadata": {
    "collapsed": true
   },
   "outputs": [],
   "source": [
    "optimizer = keras.optimizers.RMSprop(lr=0.01)\n",
    "model.compile(loss='categorical_crossentropy', optimizer=optimizer)\n",
    "\n",
    "x = np.zeros((len(inputs), timestep, len(chars)), dtype=np.bool)\n",
    "y = np.zeros((len(inputs), len(chars)), dtype=np.bool)\n",
    "\n",
    "for i, sentence in enumerate(inputs):\n",
    "    for t, char in enumerate(sentence):\n",
    "        x[i, t, char_indices[char]] = 1\n",
    "    y[i, char_indices[targets[i]]] = 1"
   ]
  },
  {
   "cell_type": "code",
   "execution_count": 101,
   "metadata": {
    "scrolled": true
   },
   "outputs": [
    {
     "name": "stdout",
     "output_type": "stream",
     "text": [
      "Epoch 1/60\n",
      "400/400 [==============================] - 2s 5ms/step - loss: 3.8942\n",
      "Epoch 2/60\n",
      "400/400 [==============================] - 1s 1ms/step - loss: 3.1150\n",
      "Epoch 3/60\n",
      "400/400 [==============================] - 0s 1ms/step - loss: 3.7016\n",
      "Epoch 4/60\n",
      "400/400 [==============================] - 0s 1ms/step - loss: 3.1256\n",
      "Epoch 5/60\n",
      "400/400 [==============================] - 0s 1ms/step - loss: 2.9653\n",
      "Epoch 6/60\n",
      "400/400 [==============================] - 1s 2ms/step - loss: 3.0185\n",
      "Epoch 7/60\n",
      "400/400 [==============================] - 1s 1ms/step - loss: 2.9400\n",
      "Epoch 8/60\n",
      "400/400 [==============================] - 1s 1ms/step - loss: 2.9554\n",
      "Epoch 9/60\n",
      "400/400 [==============================] - 1s 1ms/step - loss: 2.8859\n",
      "Epoch 10/60\n",
      "400/400 [==============================] - 1s 2ms/step - loss: 2.8358\n",
      "Epoch 11/60\n",
      "400/400 [==============================] - 1s 1ms/step - loss: 2.8150\n",
      "Epoch 12/60\n",
      "400/400 [==============================] - 1s 1ms/step - loss: 2.7249\n",
      "Epoch 13/60\n",
      "400/400 [==============================] - 0s 1ms/step - loss: 2.7486\n",
      "Epoch 14/60\n",
      "400/400 [==============================] - 1s 1ms/step - loss: 2.5305\n",
      "Epoch 15/60\n",
      "400/400 [==============================] - 1s 1ms/step - loss: 2.5473\n",
      "Epoch 16/60\n",
      "400/400 [==============================] - 1s 1ms/step - loss: 2.4795\n",
      "Epoch 17/60\n",
      "400/400 [==============================] - 1s 1ms/step - loss: 2.3414\n",
      "Epoch 18/60\n",
      "400/400 [==============================] - 1s 1ms/step - loss: 2.3179\n",
      "Epoch 19/60\n",
      "400/400 [==============================] - 1s 1ms/step - loss: 2.3120\n",
      "Epoch 20/60\n",
      "400/400 [==============================] - 1s 1ms/step - loss: 2.1910\n",
      "Epoch 21/60\n",
      "400/400 [==============================] - 0s 1ms/step - loss: 2.0529\n",
      "Epoch 22/60\n",
      "400/400 [==============================] - 1s 1ms/step - loss: 2.0517\n",
      "Epoch 23/60\n",
      "400/400 [==============================] - 0s 1ms/step - loss: 2.0730\n",
      "Epoch 24/60\n",
      "400/400 [==============================] - 0s 1ms/step - loss: 2.0140\n",
      "Epoch 25/60\n",
      "400/400 [==============================] - 0s 1ms/step - loss: 1.8191\n",
      "Epoch 26/60\n",
      "400/400 [==============================] - 1s 1ms/step - loss: 1.7174\n",
      "Epoch 27/60\n",
      "400/400 [==============================] - 1s 1ms/step - loss: 1.7561\n",
      "Epoch 28/60\n",
      "400/400 [==============================] - 0s 1ms/step - loss: 1.6496\n",
      "Epoch 29/60\n",
      "400/400 [==============================] - 0s 1ms/step - loss: 1.5614\n",
      "Epoch 30/60\n",
      "400/400 [==============================] - 0s 1ms/step - loss: 1.4456\n",
      "Epoch 31/60\n",
      "400/400 [==============================] - 1s 1ms/step - loss: 1.4220\n",
      "Epoch 32/60\n",
      "400/400 [==============================] - 0s 1ms/step - loss: 1.3604\n",
      "Epoch 33/60\n",
      "400/400 [==============================] - 0s 1ms/step - loss: 1.1850\n",
      "Epoch 34/60\n",
      "400/400 [==============================] - 0s 1ms/step - loss: 1.1667\n",
      "Epoch 35/60\n",
      "400/400 [==============================] - 0s 1ms/step - loss: 1.1851\n",
      "Epoch 36/60\n",
      "400/400 [==============================] - 0s 1ms/step - loss: 1.0746\n",
      "Epoch 37/60\n",
      "400/400 [==============================] - 1s 1ms/step - loss: 0.9376\n",
      "Epoch 38/60\n",
      "400/400 [==============================] - 0s 1ms/step - loss: 1.0058\n",
      "Epoch 39/60\n",
      "400/400 [==============================] - 1s 1ms/step - loss: 0.8038\n",
      "Epoch 40/60\n",
      "400/400 [==============================] - 1s 1ms/step - loss: 0.7444\n",
      "Epoch 41/60\n",
      "400/400 [==============================] - 1s 1ms/step - loss: 0.6972\n",
      "Epoch 42/60\n",
      "400/400 [==============================] - 1s 1ms/step - loss: 0.6613\n",
      "Epoch 43/60\n",
      "400/400 [==============================] - 1s 1ms/step - loss: 0.5610\n",
      "Epoch 44/60\n",
      "400/400 [==============================] - 1s 1ms/step - loss: 0.5051\n",
      "Epoch 45/60\n",
      "400/400 [==============================] - 1s 1ms/step - loss: 0.4692\n",
      "Epoch 46/60\n",
      "400/400 [==============================] - 1s 1ms/step - loss: 0.5649\n",
      "Epoch 47/60\n",
      "400/400 [==============================] - 1s 1ms/step - loss: 0.3672\n",
      "Epoch 48/60\n",
      "400/400 [==============================] - 1s 1ms/step - loss: 0.2371\n",
      "Epoch 49/60\n",
      "400/400 [==============================] - 1s 1ms/step - loss: 0.1745\n",
      "Epoch 50/60\n",
      "400/400 [==============================] - 1s 1ms/step - loss: 0.2658\n",
      "Epoch 51/60\n",
      "400/400 [==============================] - 1s 1ms/step - loss: 0.1457\n",
      "Epoch 52/60\n",
      "400/400 [==============================] - 1s 1ms/step - loss: 0.1690\n",
      "Epoch 53/60\n",
      "400/400 [==============================] - 1s 1ms/step - loss: 0.1669\n",
      "Epoch 54/60\n",
      "400/400 [==============================] - 0s 1ms/step - loss: 0.1582\n",
      "Epoch 55/60\n",
      "400/400 [==============================] - 0s 1ms/step - loss: 0.2857\n",
      "Epoch 56/60\n",
      "400/400 [==============================] - 0s 1ms/step - loss: 0.1137\n",
      "Epoch 57/60\n",
      "400/400 [==============================] - 0s 1ms/step - loss: 0.0645\n",
      "Epoch 58/60\n",
      "400/400 [==============================] - 0s 1ms/step - loss: 0.0370\n",
      "Epoch 59/60\n",
      "400/400 [==============================] - 0s 1ms/step - loss: 0.0260\n",
      "Epoch 60/60\n",
      "400/400 [==============================] - 1s 1ms/step - loss: 0.0193\n"
     ]
    },
    {
     "data": {
      "text/plain": [
       "<keras.callbacks.History at 0x2f0f0ce2f60>"
      ]
     },
     "execution_count": 101,
     "metadata": {},
     "output_type": "execute_result"
    }
   ],
   "source": [
    "model.fit(x, y,\n",
    "    batch_size=128,\n",
    "    epochs=60)"
   ]
  },
  {
   "cell_type": "code",
   "execution_count": 94,
   "metadata": {
    "collapsed": true
   },
   "outputs": [],
   "source": [
    "model.save('new_modelkernel.model')"
   ]
  },
  {
   "cell_type": "code",
   "execution_count": null,
   "metadata": {
    "collapsed": true
   },
   "outputs": [],
   "source": [
    "model_nr = 60\n",
    "model = keras.models.load_model('new_model%d.model' % model_nr)"
   ]
  },
  {
   "cell_type": "code",
   "execution_count": 102,
   "metadata": {},
   "outputs": [
    {
     "name": "stdout",
     "output_type": "stream",
     "text": [
      "1. at a period when i was entirely or in great part released from my labors as an advocate and my duties as a senator, chiefly by your advice, bru tus, i betook myself again to those pursuits which, never out of mind, though suspended by the de mands upon my time, i renewed after a long inter val ; and since the theory and practice of the arts that belong to the right mode of living are com prised in the study of that wisdom w"
     ]
    }
   ],
   "source": [
    "import sys\n",
    "initial_text = \"ciao mamma come sei bella cosi\"\n",
    "initial_text = \"hello mom, you are really nice\"\n",
    "initial_text = '1. at a period when i was enti'\n",
    "text = initial_text\n",
    "sys.stdout.write(text)\n",
    "\n",
    "for i in range(400):\n",
    "    new_input = np.zeros((1, timestep, len(chars)))\n",
    "    for t, char in enumerate(text):\n",
    "        new_input[0, t, char_indices[char]] = 1.\n",
    "    a = char2_indices[np.argmax(model.predict(new_input)[0])]\n",
    "    text += a\n",
    "    text = text[1:]\n",
    "    sys.stdout.write(a)"
   ]
  },
  {
   "cell_type": "markdown",
   "metadata": {},
   "source": [
    "Impressive: there are 69^400 possible texts, and only 101 376 weights to learn "
   ]
  },
  {
   "cell_type": "markdown",
   "metadata": {},
   "source": [
    "essential settings: 60 epochs, sigmoid, tanh\n",
    "kernel_initializer: "
   ]
  },
  {
   "cell_type": "code",
   "execution_count": null,
   "metadata": {
    "collapsed": true
   },
   "outputs": [],
   "source": []
  }
 ],
 "metadata": {
  "kernelspec": {
   "display_name": "Python 3",
   "language": "python",
   "name": "python3"
  },
  "language_info": {
   "codemirror_mode": {
    "name": "ipython",
    "version": 3
   },
   "file_extension": ".py",
   "mimetype": "text/x-python",
   "name": "python",
   "nbconvert_exporter": "python",
   "pygments_lexer": "ipython3",
   "version": "3.5.3"
  }
 },
 "nbformat": 4,
 "nbformat_minor": 2
}
