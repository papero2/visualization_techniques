{
 "cells": [
  {
   "cell_type": "markdown",
   "metadata": {},
   "source": [
    "## Training and Testing Set Generation"
   ]
  },
  {
   "cell_type": "code",
   "execution_count": 1,
   "metadata": {},
   "outputs": [],
   "source": [
    "import pandas as pd\n",
    "import skimage\n",
    "import matplotlib.pyplot as plt"
   ]
  },
  {
   "cell_type": "code",
   "execution_count": 2,
   "metadata": {},
   "outputs": [],
   "source": [
    "# Outliers\n",
    "img_nr = ['001325', '001405']\n",
    "size = 64\n",
    "\n",
    "def inner_loop(image, size, c):\n",
    "    patches=[]\n",
    "    for a in range(c[2]-c[0]):\n",
    "        for b in range(c[3]-c[1]):\n",
    "            corners = [c[0]+a-size//2, c[1]+b-size//2, c[0]+a+size//2, c[1]+b+size//2]\n",
    "            if corners[0]>0 and corners[1]>0 and corners[2]<image.shape[0] and corners[3]<image.shape[1]:\n",
    "                patch = image[corners[0]:corners[2], corners[1]:corners[3]]\n",
    "                patches.append(patch)\n",
    "                skimage.io.imsave('Images/Outliers/patch%d.png'%len(patches), patch)\n",
    "    return patches"
   ]
  },
  {
   "cell_type": "code",
   "execution_count": 3,
   "metadata": {},
   "outputs": [
    {
     "name": "stdout",
     "output_type": "stream",
     "text": [
      "number of patches:  0\n",
      "number of patches:  285\n"
     ]
    }
   ],
   "source": [
    "def extract_patches(nr):\n",
    "    img=skimage.io.imread('Images/Original/'+nr+'.png')\n",
    "    df = pd.read_csv('csv/'+nr+'.csv', skiprows=6)\n",
    "    coordinates = [df.iloc[0][1],df.iloc[0][0],df.iloc[0][1]+df.iloc[0][3],df.iloc[0][0]+df.iloc[0][2]] \n",
    "    return inner_loop(img, size, coordinates)\n",
    "\n",
    "for i in img_nr:\n",
    "    patches = extract_patches(i)\n",
    "    print('number of patches: ', len(patches))"
   ]
  },
  {
   "cell_type": "code",
   "execution_count": 4,
   "metadata": {},
   "outputs": [
    {
     "data": {
      "text/plain": [
       "<matplotlib.image.AxesImage at 0x7f98756b6e80>"
      ]
     },
     "execution_count": 4,
     "metadata": {},
     "output_type": "execute_result"
    },
    {
     "data": {
      "image/png": "[encoded data removed]",
      "text/plain": [
       "<Figure size 432x288 with 1 Axes>"
      ]
     },
     "metadata": {
      "needs_background": "light"
     },
     "output_type": "display_data"
    }
   ],
   "source": [
    "plt.imshow(patches[1])"
   ]
  },
  {
   "cell_type": "code",
   "execution_count": 5,
   "metadata": {},
   "outputs": [],
   "source": [
    "# Training and Normal\n",
    "img_nr = ['001264', '001265']\n",
    "size = 64\n",
    "\n",
    "def inner_loop(image, nr, size):\n",
    "    patches=[]\n",
    "    for a in range(1, image.shape[0]-65, 64):\n",
    "        for b in range(1, image.shape[1]-65, 64):\n",
    "            patch = image[a:a+64, b:b+64]\n",
    "            patches.append(patch)\n",
    "            if nr=='001264':\n",
    "                skimage.io.imsave('Images/Training/normal_patch%d.png'%len(patches), patch)\n",
    "            else:\n",
    "                skimage.io.imsave('Images/Normal/normal_patch%d.png'%len(patches), patch)\n",
    "    return patches"
   ]
  },
  {
   "cell_type": "code",
   "execution_count": 6,
   "metadata": {},
   "outputs": [
    {
     "name": "stdout",
     "output_type": "stream",
     "text": [
      "number of patches:  77\n",
      "number of patches:  77\n"
     ]
    }
   ],
   "source": [
    "def extract_patches(nr):\n",
    "    img=skimage.io.imread('Images/Original/'+nr+'.png')\n",
    "    return inner_loop(img, nr, size)\n",
    "\n",
    "for i in img_nr:\n",
    "    patches = extract_patches(i)\n",
    "    print('number of patches: ', len(patches))"
   ]
  },
  {
   "cell_type": "code",
   "execution_count": null,
   "metadata": {},
   "outputs": [],
   "source": []
  }
 ],
 "metadata": {
  "kernelspec": {
   "display_name": "Python 3",
   "language": "python",
   "name": "python3"
  },
  "language_info": {
   "codemirror_mode": {
    "name": "ipython",
    "version": 3
   },
   "file_extension": ".py",
   "mimetype": "text/x-python",
   "name": "python",
   "nbconvert_exporter": "python",
   "pygments_lexer": "ipython3",
   "version": "3.7.1"
  }
 },
 "nbformat": 4,
 "nbformat_minor": 2
}
