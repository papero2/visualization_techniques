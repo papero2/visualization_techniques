{
 "cells": [
  {
   "cell_type": "code",
   "execution_count": 1,
   "metadata": {},
   "outputs": [
    {
     "name": "stderr",
     "output_type": "stream",
     "text": [
      "Using TensorFlow backend.\n"
     ]
    }
   ],
   "source": [
    "import numpy as np\n",
    "import keras\n",
    "from keras.datasets import mnist\n",
    "from keras.models import Sequential\n",
    "from keras.layers import Dense\n",
    "from keras import backend as K\n",
    "import matplotlib.pyplot as plt"
   ]
  },
  {
   "cell_type": "code",
   "execution_count": 2,
   "metadata": {},
   "outputs": [],
   "source": [
    "# LOAD INPUT\n",
    "(x_train, y_train), (x_test, y_test) = mnist.load_data()"
   ]
  },
  {
   "cell_type": "code",
   "execution_count": 3,
   "metadata": {},
   "outputs": [
    {
     "data": {
      "text/plain": [
       "((60000, 784), dtype('float32'))"
      ]
     },
     "execution_count": 3,
     "metadata": {},
     "output_type": "execute_result"
    }
   ],
   "source": [
    "x_train = x_train.astype('float32')\n",
    "x_train /= 255\n",
    "x_train = x_train.reshape(x_train.shape[0],784)\n",
    "x_train.shape, x_train.dtype"
   ]
  },
  {
   "cell_type": "code",
   "execution_count": 4,
   "metadata": {},
   "outputs": [],
   "source": [
    "x_original = x_train"
   ]
  },
  {
   "cell_type": "code",
   "execution_count": null,
   "metadata": {},
   "outputs": [],
   "source": [
    "x_train = x_train[y_train==2]"
   ]
  },
  {
   "cell_type": "code",
   "execution_count": 42,
   "metadata": {},
   "outputs": [
    {
     "name": "stdout",
     "output_type": "stream",
     "text": [
      "Epoch 1/100\n",
      "5958/5958 [==============================] - 1s 110us/step - loss: 0.1872 - acc: 0.0040\n",
      "Epoch 2/100\n",
      "5958/5958 [==============================] - 0s 36us/step - loss: 0.1157 - acc: 0.0052\n",
      "Epoch 3/100\n",
      "5958/5958 [==============================] - 0s 39us/step - loss: 0.0842 - acc: 0.0039\n",
      "Epoch 4/100\n",
      "5958/5958 [==============================] - 0s 38us/step - loss: 0.0726 - acc: 0.0027\n",
      "Epoch 5/100\n",
      "5958/5958 [==============================] - 0s 37us/step - loss: 0.0679 - acc: 0.0023\n",
      "Epoch 6/100\n",
      "5958/5958 [==============================] - 0s 35us/step - loss: 0.0654 - acc: 0.0018\n",
      "Epoch 7/100\n",
      "5958/5958 [==============================] - 0s 40us/step - loss: 0.0635 - acc: 0.0037\n",
      "Epoch 8/100\n",
      "5958/5958 [==============================] - 0s 43us/step - loss: 0.0615 - acc: 0.0039\n",
      "Epoch 9/100\n",
      "5958/5958 [==============================] - 0s 39us/step - loss: 0.0593 - acc: 0.0052\n",
      "Epoch 10/100\n",
      "5958/5958 [==============================] - 0s 37us/step - loss: 0.0571 - acc: 0.0045\n",
      "Epoch 11/100\n",
      "5958/5958 [==============================] - 0s 36us/step - loss: 0.0552 - acc: 0.0060\n",
      "Epoch 12/100\n",
      "5958/5958 [==============================] - 0s 40us/step - loss: 0.0533 - acc: 0.0060\n",
      "Epoch 13/100\n",
      "5958/5958 [==============================] - 0s 42us/step - loss: 0.0516 - acc: 0.0054\n",
      "Epoch 14/100\n",
      "5958/5958 [==============================] - 0s 43us/step - loss: 0.0499 - acc: 0.0047\n",
      "Epoch 15/100\n",
      "5958/5958 [==============================] - 0s 38us/step - loss: 0.0483 - acc: 0.0039\n",
      "Epoch 16/100\n",
      "5958/5958 [==============================] - 0s 37us/step - loss: 0.0466 - acc: 0.0049\n",
      "Epoch 17/100\n",
      "5958/5958 [==============================] - 0s 37us/step - loss: 0.0450 - acc: 0.0049\n",
      "Epoch 18/100\n",
      "5958/5958 [==============================] - 0s 36us/step - loss: 0.0435 - acc: 0.0064\n",
      "Epoch 19/100\n",
      "5958/5958 [==============================] - 0s 36us/step - loss: 0.0421 - acc: 0.0069\n",
      "Epoch 20/100\n",
      "5958/5958 [==============================] - 0s 37us/step - loss: 0.0407 - acc: 0.0072\n",
      "Epoch 21/100\n",
      "5958/5958 [==============================] - 0s 37us/step - loss: 0.0395 - acc: 0.0076\n",
      "Epoch 22/100\n",
      "5958/5958 [==============================] - 0s 36us/step - loss: 0.0383 - acc: 0.0074\n",
      "Epoch 23/100\n",
      "5958/5958 [==============================] - 0s 36us/step - loss: 0.0372 - acc: 0.0070\n",
      "Epoch 24/100\n",
      "5958/5958 [==============================] - 0s 37us/step - loss: 0.0361 - acc: 0.0067\n",
      "Epoch 25/100\n",
      "5958/5958 [==============================] - 0s 38us/step - loss: 0.0351 - acc: 0.0065\n",
      "Epoch 26/100\n",
      "5958/5958 [==============================] - 0s 37us/step - loss: 0.0340 - acc: 0.0072\n",
      "Epoch 27/100\n",
      "5958/5958 [==============================] - 0s 37us/step - loss: 0.0331 - acc: 0.0072\n",
      "Epoch 28/100\n",
      "5958/5958 [==============================] - 0s 37us/step - loss: 0.0321 - acc: 0.0064\n",
      "Epoch 29/100\n",
      "5958/5958 [==============================] - 0s 37us/step - loss: 0.0313 - acc: 0.0077\n",
      "Epoch 30/100\n",
      "5958/5958 [==============================] - 0s 39us/step - loss: 0.0304 - acc: 0.0070\n",
      "Epoch 31/100\n",
      "5958/5958 [==============================] - 0s 38us/step - loss: 0.0296 - acc: 0.0077\n",
      "Epoch 32/100\n",
      "5958/5958 [==============================] - 0s 38us/step - loss: 0.0289 - acc: 0.0082\n",
      "Epoch 33/100\n",
      "5958/5958 [==============================] - 0s 38us/step - loss: 0.0282 - acc: 0.0084\n",
      "Epoch 34/100\n",
      "5958/5958 [==============================] - 0s 37us/step - loss: 0.0275 - acc: 0.0079\n",
      "Epoch 35/100\n",
      "5958/5958 [==============================] - 0s 38us/step - loss: 0.0269 - acc: 0.0084\n",
      "Epoch 36/100\n",
      "5958/5958 [==============================] - 0s 38us/step - loss: 0.0263 - acc: 0.0089\n",
      "Epoch 37/100\n",
      "5958/5958 [==============================] - 0s 43us/step - loss: 0.0258 - acc: 0.0086\n",
      "Epoch 38/100\n",
      "5958/5958 [==============================] - 0s 49us/step - loss: 0.0252 - acc: 0.0082\n",
      "Epoch 39/100\n",
      "5958/5958 [==============================] - 0s 40us/step - loss: 0.0247 - acc: 0.0082\n",
      "Epoch 40/100\n",
      "5958/5958 [==============================] - 0s 37us/step - loss: 0.0242 - acc: 0.0084\n",
      "Epoch 41/100\n",
      "5958/5958 [==============================] - 0s 36us/step - loss: 0.0238 - acc: 0.0076\n",
      "Epoch 42/100\n",
      "5958/5958 [==============================] - 0s 38us/step - loss: 0.0233 - acc: 0.0082\n",
      "Epoch 43/100\n",
      "5958/5958 [==============================] - 0s 37us/step - loss: 0.0229 - acc: 0.0079\n",
      "Epoch 44/100\n",
      "5958/5958 [==============================] - 0s 38us/step - loss: 0.0225 - acc: 0.0077\n",
      "Epoch 45/100\n",
      "5958/5958 [==============================] - 0s 38us/step - loss: 0.0221 - acc: 0.0079\n",
      "Epoch 46/100\n",
      "5958/5958 [==============================] - 0s 38us/step - loss: 0.0217 - acc: 0.0084\n",
      "Epoch 47/100\n",
      "5958/5958 [==============================] - 0s 37us/step - loss: 0.0214 - acc: 0.0076\n",
      "Epoch 48/100\n",
      "5958/5958 [==============================] - 0s 37us/step - loss: 0.0210 - acc: 0.0081\n",
      "Epoch 49/100\n",
      "5958/5958 [==============================] - 0s 43us/step - loss: 0.0207 - acc: 0.0070\n",
      "Epoch 50/100\n",
      "5958/5958 [==============================] - 0s 38us/step - loss: 0.0204 - acc: 0.0074\n",
      "Epoch 51/100\n",
      "5958/5958 [==============================] - 0s 39us/step - loss: 0.0201 - acc: 0.0072\n",
      "Epoch 52/100\n",
      "5958/5958 [==============================] - 0s 41us/step - loss: 0.0198 - acc: 0.0069\n",
      "Epoch 53/100\n",
      "5958/5958 [==============================] - 0s 37us/step - loss: 0.0195 - acc: 0.0076\n",
      "Epoch 54/100\n",
      "5958/5958 [==============================] - 0s 35us/step - loss: 0.0192 - acc: 0.0057\n",
      "Epoch 55/100\n",
      "5958/5958 [==============================] - 0s 42us/step - loss: 0.0189 - acc: 0.0067\n",
      "Epoch 56/100\n",
      "5958/5958 [==============================] - 0s 39us/step - loss: 0.0186 - acc: 0.0060\n",
      "Epoch 57/100\n",
      "5958/5958 [==============================] - 0s 38us/step - loss: 0.0184 - acc: 0.0062\n",
      "Epoch 58/100\n",
      "5958/5958 [==============================] - 0s 46us/step - loss: 0.0181 - acc: 0.0067\n",
      "Epoch 59/100\n",
      "5958/5958 [==============================] - 0s 40us/step - loss: 0.0179 - acc: 0.0062\n",
      "Epoch 60/100\n",
      "5958/5958 [==============================] - 0s 34us/step - loss: 0.0177 - acc: 0.0070\n",
      "Epoch 61/100\n",
      "5958/5958 [==============================] - 0s 36us/step - loss: 0.0174 - acc: 0.0067\n",
      "Epoch 62/100\n",
      "5958/5958 [==============================] - 0s 45us/step - loss: 0.0172 - acc: 0.0067\n",
      "Epoch 63/100\n",
      "5958/5958 [==============================] - 0s 38us/step - loss: 0.0170 - acc: 0.0065\n",
      "Epoch 64/100\n",
      "5958/5958 [==============================] - 0s 36us/step - loss: 0.0168 - acc: 0.0065\n",
      "Epoch 65/100\n",
      "5958/5958 [==============================] - 0s 35us/step - loss: 0.0166 - acc: 0.0067\n",
      "Epoch 66/100\n",
      "5958/5958 [==============================] - 0s 36us/step - loss: 0.0164 - acc: 0.0067\n",
      "Epoch 67/100\n",
      "5958/5958 [==============================] - 0s 36us/step - loss: 0.0162 - acc: 0.0077\n",
      "Epoch 68/100\n",
      "5958/5958 [==============================] - 0s 37us/step - loss: 0.0160 - acc: 0.0072\n",
      "Epoch 69/100\n",
      "5958/5958 [==============================] - 0s 36us/step - loss: 0.0159 - acc: 0.0070\n",
      "Epoch 70/100\n",
      "5958/5958 [==============================] - 0s 35us/step - loss: 0.0157 - acc: 0.0074\n",
      "Epoch 71/100\n",
      "5958/5958 [==============================] - 0s 41us/step - loss: 0.0155 - acc: 0.0077\n",
      "Epoch 72/100\n",
      "5958/5958 [==============================] - 0s 47us/step - loss: 0.0153 - acc: 0.0072\n",
      "Epoch 73/100\n",
      "5958/5958 [==============================] - 0s 54us/step - loss: 0.0152 - acc: 0.0074\n",
      "Epoch 74/100\n",
      "5958/5958 [==============================] - 0s 53us/step - loss: 0.0150 - acc: 0.0072\n",
      "Epoch 75/100\n",
      "5958/5958 [==============================] - 0s 53us/step - loss: 0.0149 - acc: 0.0081\n",
      "Epoch 76/100\n",
      "5958/5958 [==============================] - 0s 61us/step - loss: 0.0147 - acc: 0.0079\n",
      "Epoch 77/100\n",
      "5958/5958 [==============================] - 0s 52us/step - loss: 0.0146 - acc: 0.0082\n",
      "Epoch 78/100\n",
      "5958/5958 [==============================] - 0s 56us/step - loss: 0.0144 - acc: 0.0084\n",
      "Epoch 79/100\n",
      "5958/5958 [==============================] - 0s 56us/step - loss: 0.0143 - acc: 0.0082\n",
      "Epoch 80/100\n",
      "5958/5958 [==============================] - 0s 53us/step - loss: 0.0142 - acc: 0.0084\n",
      "Epoch 81/100\n",
      "5958/5958 [==============================] - 0s 61us/step - loss: 0.0140 - acc: 0.0077\n",
      "Epoch 82/100\n",
      "5958/5958 [==============================] - 0s 53us/step - loss: 0.0139 - acc: 0.0086\n",
      "Epoch 83/100\n"
     ]
    },
    {
     "name": "stdout",
     "output_type": "stream",
     "text": [
      "5958/5958 [==============================] - 0s 49us/step - loss: 0.0138 - acc: 0.0079\n",
      "Epoch 84/100\n",
      "5958/5958 [==============================] - 0s 51us/step - loss: 0.0136 - acc: 0.0092\n",
      "Epoch 85/100\n",
      "5958/5958 [==============================] - 0s 52us/step - loss: 0.0135 - acc: 0.0086\n",
      "Epoch 86/100\n",
      "5958/5958 [==============================] - 0s 51us/step - loss: 0.0134 - acc: 0.0086\n",
      "Epoch 87/100\n",
      "5958/5958 [==============================] - 0s 48us/step - loss: 0.0133 - acc: 0.0094\n",
      "Epoch 88/100\n",
      "5958/5958 [==============================] - 0s 49us/step - loss: 0.0132 - acc: 0.0099\n",
      "Epoch 89/100\n",
      "5958/5958 [==============================] - 0s 52us/step - loss: 0.0130 - acc: 0.0101\n",
      "Epoch 90/100\n",
      "5958/5958 [==============================] - 0s 55us/step - loss: 0.0129 - acc: 0.0101\n",
      "Epoch 91/100\n",
      "5958/5958 [==============================] - 0s 59us/step - loss: 0.0128 - acc: 0.0096\n",
      "Epoch 92/100\n",
      "5958/5958 [==============================] - 0s 52us/step - loss: 0.0127 - acc: 0.0107\n",
      "Epoch 93/100\n",
      "5958/5958 [==============================] - 0s 48us/step - loss: 0.0126 - acc: 0.0106\n",
      "Epoch 94/100\n",
      "5958/5958 [==============================] - 0s 47us/step - loss: 0.0125 - acc: 0.0101\n",
      "Epoch 95/100\n",
      "5958/5958 [==============================] - 0s 53us/step - loss: 0.0124 - acc: 0.0106\n",
      "Epoch 96/100\n",
      "5958/5958 [==============================] - 0s 56us/step - loss: 0.0123 - acc: 0.0102\n",
      "Epoch 97/100\n",
      "5958/5958 [==============================] - 0s 54us/step - loss: 0.0122 - acc: 0.0102\n",
      "Epoch 98/100\n",
      "5958/5958 [==============================] - 0s 56us/step - loss: 0.0121 - acc: 0.0107\n",
      "Epoch 99/100\n",
      "5958/5958 [==============================] - 0s 50us/step - loss: 0.0120 - acc: 0.0102\n",
      "Epoch 100/100\n",
      "5958/5958 [==============================] - 0s 48us/step - loss: 0.0119 - acc: 0.0104\n"
     ]
    },
    {
     "data": {
      "text/plain": [
       "<keras.callbacks.History at 0x7f91b51e5cc0>"
      ]
     },
     "execution_count": 42,
     "metadata": {},
     "output_type": "execute_result"
    }
   ],
   "source": [
    "model = Sequential()\n",
    "model.add(Dense(256,activation='tanh',input_dim=784))\n",
    "model.add(Dense(128,activation='relu'))\n",
    "model.add(Dense(256,activation='tanh'))\n",
    "model.add(Dense(784,activation='sigmoid'))\n",
    "\n",
    "model.compile(loss=keras.losses.mean_squared_error,\n",
    "             optimizer=keras.optimizers.RMSprop(lr=0.0001, rho=0.9, epsilon=None, decay=0.0),\n",
    "             metrics = ['accuracy'])\n",
    "\n",
    "model.fit(x_train,x_train,verbose=1,epochs=100,batch_size=256)"
   ]
  },
  {
   "cell_type": "code",
   "execution_count": 44,
   "metadata": {},
   "outputs": [
    {
     "name": "stdout",
     "output_type": "stream",
     "text": [
      "2\n",
      "loss: 0.011937483639955601\n",
      "8\n",
      "loss: 0.029964516782654674\n"
     ]
    }
   ],
   "source": [
    "from sklearn.metrics import mean_squared_error\n",
    "\n",
    "mses = []\n",
    "numbers = (2, 8)\n",
    "\n",
    "def compute_mses(nr):\n",
    "    input1 = x_original[nr].reshape(28, 28)\n",
    "    output1 = model.predict(input1.reshape(1, 784)).reshape(28, 28)\n",
    "    temp.append(mean_squared_error(input1.reshape(784), output1.reshape(784)))\n",
    "\n",
    "for number in numbers:\n",
    "    temp = []\n",
    "    for j, nr in enumerate(np.where(y_train==number)[0]):\n",
    "        compute_mses(nr)\n",
    "    print(number)\n",
    "    print('loss:', np.sum(np.array(temp))/(j+1))\n",
    "    mses.append(temp)"
   ]
  },
  {
   "cell_type": "markdown",
   "metadata": {},
   "source": [
    "### Plot Distributions"
   ]
  },
  {
   "cell_type": "code",
   "execution_count": 45,
   "metadata": {},
   "outputs": [
    {
     "name": "stderr",
     "output_type": "stream",
     "text": [
      "/home/fabrizio/anaconda3/lib/python3.7/site-packages/scipy/stats/stats.py:1713: FutureWarning: Using a non-tuple sequence for multidimensional indexing is deprecated; use `arr[tuple(seq)]` instead of `arr[seq]`. In the future this will be interpreted as an array index, `arr[np.array(seq)]`, which will result either in an error or a different result.\n",
      "  return np.add.reduce(sorted[indexer] * weights, axis=axis) / sumval\n"
     ]
    },
    {
     "data": {
      "text/plain": [
       "<matplotlib.axes._subplots.AxesSubplot at 0x7f91b526add8>"
      ]
     },
     "execution_count": 45,
     "metadata": {},
     "output_type": "execute_result"
    },
    {
     "data": {
      "image/png": "[encoded data removed]",
      "text/plain": [
       "<Figure size 432x288 with 1 Axes>"
      ]
     },
     "metadata": {
      "needs_background": "light"
     },
     "output_type": "display_data"
    }
   ],
   "source": [
    "import seaborn as sns\n",
    "sns.distplot(np.asarray(mses[0]))\n",
    "sns.distplot(np.asarray(mses[1]))"
   ]
  },
  {
   "cell_type": "markdown",
   "metadata": {},
   "source": [
    "### Performance Metrics"
   ]
  },
  {
   "cell_type": "code",
   "execution_count": 46,
   "metadata": {},
   "outputs": [
    {
     "data": {
      "application/vnd.jupyter.widget-view+json": {
       "model_id": "a0faecd6a58c4feeaebe467b83bc47a9",
       "version_major": 2,
       "version_minor": 0
      },
      "text/plain": [
       "interactive(children=(FloatSlider(value=0.05, description='threshold', max=0.2, step=0.001), Output()), _dom_c…"
      ]
     },
     "metadata": {},
     "output_type": "display_data"
    },
    {
     "data": {
      "text/plain": [
       "<function __main__.outlyers(threshold=0.05)>"
      ]
     },
     "execution_count": 46,
     "metadata": {},
     "output_type": "execute_result"
    }
   ],
   "source": [
    "import ipywidgets as widgets\n",
    "\n",
    "def outlyers(threshold=0.05):\n",
    "    nr1 = len(np.where(np.array(mses[0])>threshold)[0])/len(mses[0])\n",
    "    nr2 = len(np.where(np.array(mses[1])<threshold)[0])/len(mses[1])\n",
    "    print('percentage of misclassified items:', (nr1 + nr2) / 2)\n",
    "\n",
    "widgets.interact(outlyers, threshold=widgets.FloatSlider(min=0, max=0.2, step=0.001, value=0.05))"
   ]
  },
  {
   "cell_type": "markdown",
   "metadata": {},
   "source": [
    "Performance table<br> \n",
    "\n",
    "1. K=1 --> 74%\n",
    "2. K=2 --> 82%\n",
    "3. K-3 --> 85%\n",
    "4. K=4 --> 87%\n",
    "...\n",
    "10. K=10 --> 89%\n",
    "...\n",
    "64. K=64 --> 95%\n",
    "...\n",
    "128. K=128 --> 95%\n"
   ]
  },
  {
   "cell_type": "code",
   "execution_count": 12,
   "metadata": {},
   "outputs": [
    {
     "data": {
      "image/png": "[encoded data removed]",
      "text/plain": [
       "<Figure size 432x288 with 1 Axes>"
      ]
     },
     "metadata": {
      "needs_background": "light"
     },
     "output_type": "display_data"
    },
    {
     "data": {
      "image/png": "[encoded data removed]",
      "text/plain": [
       "<Figure size 432x288 with 1 Axes>"
      ]
     },
     "metadata": {
      "needs_background": "light"
     },
     "output_type": "display_data"
    },
    {
     "data": {
      "image/png": "[encoded data removed]",
      "text/plain": [
       "<Figure size 432x288 with 1 Axes>"
      ]
     },
     "metadata": {
      "needs_background": "light"
     },
     "output_type": "display_data"
    },
    {
     "data": {
      "image/png": "[encoded data removed]",
      "text/plain": [
       "<Figure size 432x288 with 1 Axes>"
      ]
     },
     "metadata": {
      "needs_background": "light"
     },
     "output_type": "display_data"
    },
    {
     "data": {
      "image/png": "[encoded data removed]",
      "text/plain": [
       "<Figure size 432x288 with 1 Axes>"
      ]
     },
     "metadata": {
      "needs_background": "light"
     },
     "output_type": "display_data"
    },
    {
     "data": {
      "image/png": "[encoded data removed]",
      "text/plain": [
       "<Figure size 432x288 with 1 Axes>"
      ]
     },
     "metadata": {
      "needs_background": "light"
     },
     "output_type": "display_data"
    }
   ],
   "source": [
    "def plot(nr):\n",
    "    input1 = x_original[nr].reshape(28, 28)\n",
    "    output1 = model.predict(input1.reshape(1, 784)).reshape(28, 28)\n",
    " \n",
    "    plt.imshow(input1)\n",
    "    plt.show()\n",
    "    plt.imshow(output1)\n",
    "    plt.show()\n",
    "plot(5)\n",
    "plot(25)\n",
    "plot(6)"
   ]
  },
  {
   "cell_type": "code",
   "execution_count": 47,
   "metadata": {},
   "outputs": [
    {
     "data": {
      "application/vnd.jupyter.widget-view+json": {
       "model_id": "dccdf4dba29749f78e0a14f74d57e570",
       "version_major": 2,
       "version_minor": 0
      },
      "text/plain": [
       "interactive(children=(FloatSlider(value=10.0, description='x1', max=20.0, min=-1.0, step=0.01), FloatSlider(va…"
      ]
     },
     "metadata": {},
     "output_type": "display_data"
    },
    {
     "data": {
      "text/plain": [
       "<function __main__.widget(x1=1, x2=1, x3=1, x4=1)>"
      ]
     },
     "execution_count": 47,
     "metadata": {},
     "output_type": "execute_result"
    }
   ],
   "source": [
    "def widget(x1=1, x2=1, x3=1, x4=1):\n",
    "    get = K.function([model.layers[2].input], [model.layers[3].output])\n",
    "    input2 = np.array([x1, x2, x3, x4]).reshape(1, 4)\n",
    "    output = get([input2])\n",
    "    plt.imshow(output[0].reshape(28, 28))\n",
    "\n",
    "widgets.interact(widget, \n",
    "                 x1=widgets.FloatSlider(min=-1, max=20, step=0.01, value=10), \n",
    "                 x2=widgets.FloatSlider(min=-1, max=20, step=0.01, value=20),\n",
    "                 x3=widgets.FloatSlider(min=-1, max=20, step=0.01, value=10), \n",
    "                 x4=widgets.FloatSlider(min=-1, max=20, step=0.01, value=8))\n",
    "#layer_output = layer_output[0].tolist()\n",
    "#layer_output = np.round(layer_output, decimals=1)       "
   ]
  },
  {
   "cell_type": "code",
   "execution_count": 48,
   "metadata": {},
   "outputs": [
    {
     "data": {
      "text/plain": [
       "array([[12.23551  ,  8.358166 ,  1.5685166, 17.46034  ]], dtype=float32)"
      ]
     },
     "execution_count": 48,
     "metadata": {},
     "output_type": "execute_result"
    }
   ],
   "source": [
    "get = K.function([model.layers[0].input], [model.layers[1].output])\n",
    "input3 = x_original[25].reshape(1, 784)\n",
    "get([input3])[0]"
   ]
  },
  {
   "cell_type": "code",
   "execution_count": null,
   "metadata": {},
   "outputs": [],
   "source": []
  },
  {
   "cell_type": "code",
   "execution_count": null,
   "metadata": {},
   "outputs": [],
   "source": []
  }
 ],
 "metadata": {
  "kernelspec": {
   "display_name": "Python 3",
   "language": "python",
   "name": "python3"
  },
  "language_info": {
   "codemirror_mode": {
    "name": "ipython",
    "version": 3
   },
   "file_extension": ".py",
   "mimetype": "text/x-python",
   "name": "python",
   "nbconvert_exporter": "python",
   "pygments_lexer": "ipython3",
   "version": "3.7.1"
  }
 },
 "nbformat": 4,
 "nbformat_minor": 2
}
